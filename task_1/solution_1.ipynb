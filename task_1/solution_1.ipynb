{
 "cells": [
  {
   "cell_type": "markdown",
   "id": "97f694af-745d-4afc-b299-4ab8a3729a32",
   "metadata": {},
   "source": [
    "# Задание №1\n",
    "\n",
    "Есть Pandas DataFrame со столбцами [“customer_id”, “product_id”, “timestamp”], \n",
    "который содержит данные по просмотрам товаров на сайте. \n",
    "Есть проблема – просмотры одного customer_id не разбиты на сессии (появления на сайте). \n",
    "Мы хотим разместить сессии так, чтобы сессией считались все смежные просмотры, между которыми не более 3 минут.\n",
    "\n",
    "Написать методом который создаст в Pandas DataFrame столбец session_id и проставит в нем уникальный int id для каждой сессии.\n",
    "\n",
    "У каждого пользователя может быть по несколько сессий. Исходный DataFrame может быть большим – до 100 млн строк."
   ]
  },
  {
   "cell_type": "markdown",
   "id": "161e3731-e6dd-4c65-9d6c-2e8825baced6",
   "metadata": {},
   "source": [
    "## Подготовка входных данных"
   ]
  },
  {
   "cell_type": "code",
   "execution_count": 1,
   "id": "f6f26b1d-a738-4b73-9dcb-b991e31001b2",
   "metadata": {},
   "outputs": [],
   "source": [
    "import random\n",
    "from datetime import datetime, timedelta\n",
    "from typing import List\n",
    "\n",
    "import pandas as pd\n",
    "from tqdm import tqdm\n",
    "\n",
    "pd.set_option('display.max_columns', 500)\n",
    "pd.set_option('display.max_rows', 500)\n",
    "\n",
    "random.seed(2022)"
   ]
  },
  {
   "cell_type": "code",
   "execution_count": 2,
   "id": "dffe6629-6d63-429d-8c4f-d8e5ff520487",
   "metadata": {},
   "outputs": [],
   "source": [
    "SAMPLE_SIZE = 10_000_000 # Тут можно указать размер выборки"
   ]
  },
  {
   "cell_type": "code",
   "execution_count": 3,
   "id": "91f36f96-79d3-491a-9302-145de877ea63",
   "metadata": {},
   "outputs": [],
   "source": [
    "def get_dates(SAMPLE_SIZE: int):\n",
    "    curr_time = datetime.now().replace(microsecond=0)\n",
    "\n",
    "    date_list = [] # Создаем список из 'появлений' пользователя на сайте\n",
    "    for _ in range(SAMPLE_SIZE):\n",
    "        curr_time = curr_time + timedelta(seconds=random.randrange(10, 40)) # Каждый новый коннект раз в 10-40 секунд\n",
    "        date_list.append(curr_time)\n",
    "        \n",
    "    return date_list"
   ]
  },
  {
   "cell_type": "code",
   "execution_count": 4,
   "id": "d9afd598-6ac7-46cc-a9a6-eb8a15a93cd7",
   "metadata": {},
   "outputs": [],
   "source": [
    "def create_dataset(SAMPLE_SIZE: int, date_list: List):\n",
    "    customers = [random.randrange(4) for user in range(SAMPLE_SIZE)] # Создаем список из уникальных id клиентов которые заходили. (Взял небольшое количество чтобы легче было проверить)\n",
    "    product_id = [random.randrange(100000, 10000000) for user in range(SAMPLE_SIZE)] # Список уникальных продуктов, которые смотрели клиенты.\n",
    "    timestamp = [t.timestamp() for t in date_list] # Переводим datetime даты в timestamp, как в условии задачи.\n",
    "\n",
    "    df = pd.DataFrame({\n",
    "        'customer_id': customers,\n",
    "        'product_id': product_id,\n",
    "        'timestamp': timestamp\n",
    "    })\n",
    "    \n",
    "    return df"
   ]
  },
  {
   "cell_type": "code",
   "execution_count": 5,
   "id": "17cb9c1a-c630-41aa-908a-bf126782f57c",
   "metadata": {},
   "outputs": [],
   "source": [
    "date_list = get_dates(SAMPLE_SIZE)\n",
    "df = create_dataset(SAMPLE_SIZE, date_list)"
   ]
  },
  {
   "cell_type": "markdown",
   "id": "7da382b8-2a1f-44f7-b916-770c35e8d896",
   "metadata": {},
   "source": [
    "Исходные данные:"
   ]
  },
  {
   "cell_type": "code",
   "execution_count": 6,
   "id": "369f89e3-aabb-4738-b8de-15522a848dad",
   "metadata": {},
   "outputs": [
    {
     "data": {
      "text/html": [
       "<div>\n",
       "<style scoped>\n",
       "    .dataframe tbody tr th:only-of-type {\n",
       "        vertical-align: middle;\n",
       "    }\n",
       "\n",
       "    .dataframe tbody tr th {\n",
       "        vertical-align: top;\n",
       "    }\n",
       "\n",
       "    .dataframe thead th {\n",
       "        text-align: right;\n",
       "    }\n",
       "</style>\n",
       "<table border=\"1\" class=\"dataframe\">\n",
       "  <thead>\n",
       "    <tr style=\"text-align: right;\">\n",
       "      <th></th>\n",
       "      <th>customer_id</th>\n",
       "      <th>product_id</th>\n",
       "      <th>timestamp</th>\n",
       "    </tr>\n",
       "  </thead>\n",
       "  <tbody>\n",
       "    <tr>\n",
       "      <th>0</th>\n",
       "      <td>0</td>\n",
       "      <td>6849408</td>\n",
       "      <td>1.667210e+09</td>\n",
       "    </tr>\n",
       "    <tr>\n",
       "      <th>1</th>\n",
       "      <td>3</td>\n",
       "      <td>2370942</td>\n",
       "      <td>1.667210e+09</td>\n",
       "    </tr>\n",
       "    <tr>\n",
       "      <th>2</th>\n",
       "      <td>1</td>\n",
       "      <td>1691517</td>\n",
       "      <td>1.667210e+09</td>\n",
       "    </tr>\n",
       "    <tr>\n",
       "      <th>3</th>\n",
       "      <td>3</td>\n",
       "      <td>6673614</td>\n",
       "      <td>1.667210e+09</td>\n",
       "    </tr>\n",
       "    <tr>\n",
       "      <th>4</th>\n",
       "      <td>3</td>\n",
       "      <td>8069903</td>\n",
       "      <td>1.667210e+09</td>\n",
       "    </tr>\n",
       "  </tbody>\n",
       "</table>\n",
       "</div>"
      ],
      "text/plain": [
       "   customer_id  product_id     timestamp\n",
       "0            0     6849408  1.667210e+09\n",
       "1            3     2370942  1.667210e+09\n",
       "2            1     1691517  1.667210e+09\n",
       "3            3     6673614  1.667210e+09\n",
       "4            3     8069903  1.667210e+09"
      ]
     },
     "execution_count": 6,
     "metadata": {},
     "output_type": "execute_result"
    }
   ],
   "source": [
    "df.head()"
   ]
  },
  {
   "cell_type": "markdown",
   "id": "0311de79-5542-4bd9-a038-813b6225dd06",
   "metadata": {
    "tags": []
   },
   "source": [
    "## Решение"
   ]
  },
  {
   "cell_type": "code",
   "execution_count": 7,
   "id": "8298b377-cd83-4b14-b1a2-5a0d5997be1a",
   "metadata": {},
   "outputs": [],
   "source": [
    "# Создадим словарь, формата {client_id: [sess_id, last_time_viewed]}\n",
    "\n",
    "def create_customers_dict(df: pd.DataFrame):\n",
    "    dict_init_df = df.drop_duplicates(subset='customer_id', keep='first')[['customer_id', 'timestamp']]\n",
    "    dict_init_df = dict_init_df.to_dict('records')\n",
    "\n",
    "    customers_dict = {}\n",
    "    for customer_init in dict_init_df:\n",
    "        customer_id, last_time_viewed = tuple(customer_init.values())\n",
    "        sess_id = None # По началу у всех клиентов id сессии = None\n",
    "        customers_dict[customer_id] = [sess_id, last_time_viewed]\n",
    "\n",
    "    return customers_dict"
   ]
  },
  {
   "cell_type": "code",
   "execution_count": 8,
   "id": "60272d85-3e2d-417e-aa66-ecf95eb0c73a",
   "metadata": {},
   "outputs": [],
   "source": [
    "# Функция которая создает в Pandas DataFrame столбец session_id и проставляет в нем уникальный int id для каждой сессии.\n",
    "\n",
    "def define_sessions(df: pd.DataFrame, \n",
    "                    customers_dict: dict, \n",
    "                    num_of_sessions=None):\n",
    "    \n",
    "    def get_session(customer_id, timestamp): # Вложенная функция, узнает сессию для каждой строки\n",
    "        nonlocal num_of_sessions\n",
    "        \n",
    "        # Вычисляем время между соседними активностями(просмотрами) одного поьзователя\n",
    "        customer_last_viewed_time = datetime.fromtimestamp(customers_dict[customer_id][1])\n",
    "        customer_new_viewed_time = datetime.fromtimestamp(timestamp)\n",
    "        delta_minutes = (customer_new_viewed_time - customer_last_viewed_time).seconds // 60\n",
    "        \n",
    "        # Если сессий еще не было определено, создаем ее, \n",
    "        # записываем в текущую pd строку номер этой сессии и также обновляем информацию о последнем подключении в словаре клиента\n",
    "        if num_of_sessions == None:  \n",
    "            num_of_sessions = 0\n",
    "            session_id = num_of_sessions\n",
    "            customers_dict[customer_id][0] = num_of_sessions\n",
    "        else: # Если сессии уже есть, то смотрим, существуют ли они у клиента.\n",
    "            # Если нет, то сессия клиента будет равна числу существующих сессий + 1. Обновляем информацию в словарике\n",
    "            if customers_dict[customer_id][0] == None:\n",
    "                num_of_sessions += 1\n",
    "                session_id = num_of_sessions\n",
    "                customers_dict[customer_id][0] = num_of_sessions\n",
    "            # Если у клиента тоже есть/была сессия, то смотрим как давно она была.\n",
    "            else:\n",
    "                # Если прошло <= 3 минут - то записываем старую сессию, так как по условию она еще активна.\n",
    "                if delta_minutes <= 3:\n",
    "                    session_id = customers_dict[customer_id][0]\n",
    "                # Если прошло > 3 минут - то записываем сессию как новую.\n",
    "                else:\n",
    "                    num_of_sessions += 1\n",
    "                    session_id = num_of_sessions\n",
    "        # В словаре клиента обновляем информацию о последней активности\n",
    "        customers_dict[customer_id][1] = customer_new_viewed_time.timestamp()\n",
    "        \n",
    "        return session_id\n",
    "    \n",
    "    return list(map(get_session, tqdm(df['customer_id']), df['timestamp']))"
   ]
  },
  {
   "cell_type": "markdown",
   "id": "93f33fc0-e415-4b5e-8c56-a5da35d56d1f",
   "metadata": {},
   "source": [
    "## Результат"
   ]
  },
  {
   "cell_type": "code",
   "execution_count": 9,
   "id": "16bae932-5a0f-478b-9ee7-653679cec435",
   "metadata": {},
   "outputs": [],
   "source": [
    "customers_dict = create_customers_dict(df)"
   ]
  },
  {
   "cell_type": "code",
   "execution_count": 10,
   "id": "016f2773-4fb8-46f1-a9b0-75b2787e442f",
   "metadata": {
    "tags": []
   },
   "outputs": [
    {
     "name": "stderr",
     "output_type": "stream",
     "text": [
      "100%|██████████████████████████████████████████████████████████████████████████████████████████████████████████| 10000000/10000000 [00:42<00:00, 235488.75it/s]\n"
     ]
    },
    {
     "name": "stdout",
     "output_type": "stream",
     "text": [
      "CPU times: total: 46.9 s\n",
      "Wall time: 47.2 s\n"
     ]
    }
   ],
   "source": [
    "%time df['session_id'] = define_sessions(df, customers_dict)"
   ]
  },
  {
   "cell_type": "code",
   "execution_count": 11,
   "id": "2469dbb8-59b5-481b-9513-6ac94ad9d3ba",
   "metadata": {},
   "outputs": [
    {
     "data": {
      "text/html": [
       "<div>\n",
       "<style scoped>\n",
       "    .dataframe tbody tr th:only-of-type {\n",
       "        vertical-align: middle;\n",
       "    }\n",
       "\n",
       "    .dataframe tbody tr th {\n",
       "        vertical-align: top;\n",
       "    }\n",
       "\n",
       "    .dataframe thead th {\n",
       "        text-align: right;\n",
       "    }\n",
       "</style>\n",
       "<table border=\"1\" class=\"dataframe\">\n",
       "  <thead>\n",
       "    <tr style=\"text-align: right;\">\n",
       "      <th></th>\n",
       "      <th>customer_id</th>\n",
       "      <th>product_id</th>\n",
       "      <th>timestamp</th>\n",
       "      <th>session_id</th>\n",
       "    </tr>\n",
       "  </thead>\n",
       "  <tbody>\n",
       "    <tr>\n",
       "      <th>0</th>\n",
       "      <td>0</td>\n",
       "      <td>6849408</td>\n",
       "      <td>1.667210e+09</td>\n",
       "      <td>0</td>\n",
       "    </tr>\n",
       "    <tr>\n",
       "      <th>1</th>\n",
       "      <td>3</td>\n",
       "      <td>2370942</td>\n",
       "      <td>1.667210e+09</td>\n",
       "      <td>1</td>\n",
       "    </tr>\n",
       "    <tr>\n",
       "      <th>2</th>\n",
       "      <td>1</td>\n",
       "      <td>1691517</td>\n",
       "      <td>1.667210e+09</td>\n",
       "      <td>2</td>\n",
       "    </tr>\n",
       "    <tr>\n",
       "      <th>3</th>\n",
       "      <td>3</td>\n",
       "      <td>6673614</td>\n",
       "      <td>1.667210e+09</td>\n",
       "      <td>1</td>\n",
       "    </tr>\n",
       "    <tr>\n",
       "      <th>4</th>\n",
       "      <td>3</td>\n",
       "      <td>8069903</td>\n",
       "      <td>1.667210e+09</td>\n",
       "      <td>1</td>\n",
       "    </tr>\n",
       "    <tr>\n",
       "      <th>5</th>\n",
       "      <td>0</td>\n",
       "      <td>517078</td>\n",
       "      <td>1.667210e+09</td>\n",
       "      <td>0</td>\n",
       "    </tr>\n",
       "    <tr>\n",
       "      <th>6</th>\n",
       "      <td>3</td>\n",
       "      <td>8970046</td>\n",
       "      <td>1.667210e+09</td>\n",
       "      <td>1</td>\n",
       "    </tr>\n",
       "    <tr>\n",
       "      <th>7</th>\n",
       "      <td>0</td>\n",
       "      <td>5119671</td>\n",
       "      <td>1.667210e+09</td>\n",
       "      <td>0</td>\n",
       "    </tr>\n",
       "    <tr>\n",
       "      <th>8</th>\n",
       "      <td>3</td>\n",
       "      <td>550282</td>\n",
       "      <td>1.667210e+09</td>\n",
       "      <td>1</td>\n",
       "    </tr>\n",
       "    <tr>\n",
       "      <th>9</th>\n",
       "      <td>0</td>\n",
       "      <td>4057005</td>\n",
       "      <td>1.667210e+09</td>\n",
       "      <td>0</td>\n",
       "    </tr>\n",
       "  </tbody>\n",
       "</table>\n",
       "</div>"
      ],
      "text/plain": [
       "   customer_id  product_id     timestamp  session_id\n",
       "0            0     6849408  1.667210e+09           0\n",
       "1            3     2370942  1.667210e+09           1\n",
       "2            1     1691517  1.667210e+09           2\n",
       "3            3     6673614  1.667210e+09           1\n",
       "4            3     8069903  1.667210e+09           1\n",
       "5            0      517078  1.667210e+09           0\n",
       "6            3     8970046  1.667210e+09           1\n",
       "7            0     5119671  1.667210e+09           0\n",
       "8            3      550282  1.667210e+09           1\n",
       "9            0     4057005  1.667210e+09           0"
      ]
     },
     "execution_count": 11,
     "metadata": {},
     "output_type": "execute_result"
    }
   ],
   "source": [
    "df.head(10)"
   ]
  }
 ],
 "metadata": {
  "kernelspec": {
   "display_name": "Python 3 (ipykernel)",
   "language": "python",
   "name": "python3"
  },
  "language_info": {
   "codemirror_mode": {
    "name": "ipython",
    "version": 3
   },
   "file_extension": ".py",
   "mimetype": "text/x-python",
   "name": "python",
   "nbconvert_exporter": "python",
   "pygments_lexer": "ipython3",
   "version": "3.9.0"
  }
 },
 "nbformat": 4,
 "nbformat_minor": 5
}
